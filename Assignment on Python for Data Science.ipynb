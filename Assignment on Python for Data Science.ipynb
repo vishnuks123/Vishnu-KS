{
 "cells": [
  {
   "cell_type": "code",
   "execution_count": 1,
   "id": "401d1978",
   "metadata": {},
   "outputs": [],
   "source": [
    "import numpy as np\n",
    "import pandas as pd\n",
    "import matplotlib.pyplot as plt\n",
    "import seaborn as sns"
   ]
  },
  {
   "cell_type": "markdown",
   "id": "18f377e5",
   "metadata": {},
   "source": [
    "## 1. Read the dataset to python environment."
   ]
  },
  {
   "cell_type": "code",
   "execution_count": 2,
   "id": "1a81241c",
   "metadata": {},
   "outputs": [],
   "source": [
    "data = pd.read_excel(r'D:\\assignment\\iris.xls')"
   ]
  },
  {
   "cell_type": "code",
   "execution_count": null,
   "id": "05545a83",
   "metadata": {},
   "outputs": [],
   "source": [
    "data"
   ]
  },
  {
   "cell_type": "code",
   "execution_count": null,
   "id": "f82175a8",
   "metadata": {},
   "outputs": [],
   "source": [
    "data.shape"
   ]
  },
  {
   "cell_type": "code",
   "execution_count": null,
   "id": "40d48197",
   "metadata": {},
   "outputs": [],
   "source": [
    "data.head()"
   ]
  },
  {
   "cell_type": "code",
   "execution_count": null,
   "id": "6a8ad923",
   "metadata": {},
   "outputs": [],
   "source": [
    "data.tail()"
   ]
  },
  {
   "cell_type": "markdown",
   "id": "ec6b6ffb",
   "metadata": {},
   "source": [
    "## 2. Display the columns in the dataset."
   ]
  },
  {
   "cell_type": "code",
   "execution_count": null,
   "id": "4020aff4",
   "metadata": {},
   "outputs": [],
   "source": [
    "data.columns"
   ]
  },
  {
   "cell_type": "code",
   "execution_count": null,
   "id": "96a21b65",
   "metadata": {},
   "outputs": [],
   "source": [
    "data.info()"
   ]
  },
  {
   "cell_type": "markdown",
   "id": "2f89f774",
   "metadata": {},
   "source": [
    "## 3. Calculate the mean of each column of the dataset."
   ]
  },
  {
   "cell_type": "code",
   "execution_count": null,
   "id": "cdf32661",
   "metadata": {},
   "outputs": [],
   "source": [
    "data['SL'].mean()"
   ]
  },
  {
   "cell_type": "code",
   "execution_count": null,
   "id": "f0aa05d1",
   "metadata": {},
   "outputs": [],
   "source": [
    "data['SW'].mean()"
   ]
  },
  {
   "cell_type": "code",
   "execution_count": null,
   "id": "5de1759f",
   "metadata": {},
   "outputs": [],
   "source": [
    "data['PL'].mean()"
   ]
  },
  {
   "cell_type": "code",
   "execution_count": null,
   "id": "3c1b5d9a",
   "metadata": {},
   "outputs": [],
   "source": [
    "data['PW'].mean()"
   ]
  },
  {
   "cell_type": "markdown",
   "id": "7f05a8c9",
   "metadata": {},
   "source": [
    "## 4. Check for the null values present in the dataset."
   ]
  },
  {
   "cell_type": "code",
   "execution_count": null,
   "id": "f3c755ee",
   "metadata": {},
   "outputs": [],
   "source": [
    "data.isnull().sum()"
   ]
  },
  {
   "cell_type": "markdown",
   "id": "81454b78",
   "metadata": {},
   "source": [
    "## 5. Perform meaningful visualizations using the dataset. Bring at least 3 visualizations."
   ]
  },
  {
   "cell_type": "code",
   "execution_count": null,
   "id": "992813d7",
   "metadata": {},
   "outputs": [],
   "source": [
    "plt.figure(figsize=(20,10))\n",
    "sns.barplot(x=data['SL'], y = data['PL'])\n",
    "plt.show"
   ]
  },
  {
   "cell_type": "code",
   "execution_count": null,
   "id": "6588c46a",
   "metadata": {},
   "outputs": [],
   "source": [
    "sns.countplot(x='Classification', data = data)\n",
    "plt.show()"
   ]
  },
  {
   "cell_type": "code",
   "execution_count": null,
   "id": "acf37e1a",
   "metadata": {},
   "outputs": [],
   "source": [
    "plt.boxplot(data['SL'])\n",
    "plt.show()"
   ]
  },
  {
   "cell_type": "code",
   "execution_count": null,
   "id": "200162a2",
   "metadata": {},
   "outputs": [],
   "source": [
    "data1=data.set_index('Classification')"
   ]
  },
  {
   "cell_type": "code",
   "execution_count": null,
   "id": "fffbada7",
   "metadata": {},
   "outputs": [],
   "source": [
    "plt.boxplot(data1)\n",
    "plt.show()"
   ]
  },
  {
   "cell_type": "code",
   "execution_count": null,
   "id": "43d19064",
   "metadata": {},
   "outputs": [],
   "source": [
    "plt.figure(figsize=(10,8))\n",
    "data_corr = data.corr()\n",
    "sns.heatmap(data_corr , annot = True)"
   ]
  },
  {
   "cell_type": "code",
   "execution_count": null,
   "id": "4022d7c5",
   "metadata": {},
   "outputs": [],
   "source": []
  }
 ],
 "metadata": {
  "kernelspec": {
   "display_name": "Python 3 (ipykernel)",
   "language": "python",
   "name": "python3"
  },
  "language_info": {
   "codemirror_mode": {
    "name": "ipython",
    "version": 3
   },
   "file_extension": ".py",
   "mimetype": "text/x-python",
   "name": "python",
   "nbconvert_exporter": "python",
   "pygments_lexer": "ipython3",
   "version": "3.10.9"
  }
 },
 "nbformat": 4,
 "nbformat_minor": 5
}
